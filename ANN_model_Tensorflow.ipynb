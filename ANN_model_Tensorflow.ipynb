{
  "nbformat": 4,
  "nbformat_minor": 0,
  "metadata": {
    "colab": {
      "name": "ANN model Tensorflow.ipynb",
      "provenance": [],
      "toc_visible": true
    },
    "kernelspec": {
      "name": "python3",
      "display_name": "Python 3"
    },
    "language_info": {
      "name": "python"
    },
    "accelerator": "GPU"
  },
  "cells": [
    {
      "cell_type": "code",
      "execution_count": null,
      "metadata": {
        "colab": {
          "base_uri": "https://localhost:8080/"
        },
        "id": "QQofchsY8RkZ",
        "outputId": "3551eff8-7bf8-4271-f763-1c826c141e66"
      },
      "outputs": [
        {
          "output_type": "stream",
          "name": "stdout",
          "text": [
            "Looking in indexes: https://pypi.org/simple, https://us-python.pkg.dev/colab-wheels/public/simple/\n",
            "Collecting tensorflow-gpu\n",
            "  Downloading tensorflow_gpu-2.9.1-cp37-cp37m-manylinux_2_17_x86_64.manylinux2014_x86_64.whl (511.7 MB)\n",
            "\u001b[K     |█████████████▉                  | 220.7 MB 1.4 MB/s eta 0:03:22\u001b[31mERROR: Exception:\n",
            "Traceback (most recent call last):\n",
            "  File \"/usr/local/lib/python3.7/dist-packages/pip/_internal/cli/base_command.py\", line 180, in _main\n",
            "    status = self.run(options, args)\n",
            "  File \"/usr/local/lib/python3.7/dist-packages/pip/_internal/cli/req_command.py\", line 199, in wrapper\n",
            "    return func(self, options, args)\n",
            "  File \"/usr/local/lib/python3.7/dist-packages/pip/_internal/commands/install.py\", line 319, in run\n",
            "    reqs, check_supported_wheels=not options.target_dir\n",
            "  File \"/usr/local/lib/python3.7/dist-packages/pip/_internal/resolution/resolvelib/resolver.py\", line 128, in resolve\n",
            "    requirements, max_rounds=try_to_avoid_resolution_too_deep\n",
            "  File \"/usr/local/lib/python3.7/dist-packages/pip/_vendor/resolvelib/resolvers.py\", line 473, in resolve\n",
            "    state = resolution.resolve(requirements, max_rounds=max_rounds)\n",
            "  File \"/usr/local/lib/python3.7/dist-packages/pip/_vendor/resolvelib/resolvers.py\", line 341, in resolve\n",
            "    name, crit = self._merge_into_criterion(r, parent=None)\n",
            "  File \"/usr/local/lib/python3.7/dist-packages/pip/_vendor/resolvelib/resolvers.py\", line 172, in _merge_into_criterion\n",
            "    if not criterion.candidates:\n",
            "  File \"/usr/local/lib/python3.7/dist-packages/pip/_vendor/resolvelib/structs.py\", line 139, in __bool__\n",
            "    return bool(self._sequence)\n",
            "  File \"/usr/local/lib/python3.7/dist-packages/pip/_internal/resolution/resolvelib/found_candidates.py\", line 143, in __bool__\n",
            "    return any(self)\n",
            "  File \"/usr/local/lib/python3.7/dist-packages/pip/_internal/resolution/resolvelib/found_candidates.py\", line 129, in <genexpr>\n",
            "    return (c for c in iterator if id(c) not in self._incompatible_ids)\n",
            "  File \"/usr/local/lib/python3.7/dist-packages/pip/_internal/resolution/resolvelib/found_candidates.py\", line 33, in _iter_built\n",
            "    candidate = func()\n",
            "  File \"/usr/local/lib/python3.7/dist-packages/pip/_internal/resolution/resolvelib/factory.py\", line 205, in _make_candidate_from_link\n",
            "    version=version,\n",
            "  File \"/usr/local/lib/python3.7/dist-packages/pip/_internal/resolution/resolvelib/candidates.py\", line 312, in __init__\n",
            "    version=version,\n",
            "  File \"/usr/local/lib/python3.7/dist-packages/pip/_internal/resolution/resolvelib/candidates.py\", line 151, in __init__\n",
            "    self.dist = self._prepare()\n",
            "  File \"/usr/local/lib/python3.7/dist-packages/pip/_internal/resolution/resolvelib/candidates.py\", line 234, in _prepare\n",
            "    dist = self._prepare_distribution()\n",
            "  File \"/usr/local/lib/python3.7/dist-packages/pip/_internal/resolution/resolvelib/candidates.py\", line 318, in _prepare_distribution\n",
            "    self._ireq, parallel_builds=True\n",
            "  File \"/usr/local/lib/python3.7/dist-packages/pip/_internal/operations/prepare.py\", line 508, in prepare_linked_requirement\n",
            "    return self._prepare_linked_requirement(req, parallel_builds)\n",
            "  File \"/usr/local/lib/python3.7/dist-packages/pip/_internal/operations/prepare.py\", line 552, in _prepare_linked_requirement\n",
            "    self.download_dir, hashes\n",
            "  File \"/usr/local/lib/python3.7/dist-packages/pip/_internal/operations/prepare.py\", line 243, in unpack_url\n",
            "    hashes=hashes,\n",
            "  File \"/usr/local/lib/python3.7/dist-packages/pip/_internal/operations/prepare.py\", line 102, in get_http_url\n",
            "    from_path, content_type = download(link, temp_dir.path)\n",
            "  File \"/usr/local/lib/python3.7/dist-packages/pip/_internal/network/download.py\", line 157, in __call__\n",
            "    for chunk in chunks:\n",
            "  File \"/usr/local/lib/python3.7/dist-packages/pip/_internal/cli/progress_bars.py\", line 156, in iter\n",
            "    self.next(len(x))  # noqa: B305\n",
            "  File \"/usr/local/lib/python3.7/dist-packages/pip/_vendor/progress/__init__.py\", line 120, in next\n",
            "    self.update()\n",
            "  File \"/usr/local/lib/python3.7/dist-packages/pip/_vendor/progress/bar.py\", line 83, in update\n",
            "    self.writeln(line)\n",
            "  File \"/usr/local/lib/python3.7/dist-packages/pip/_vendor/progress/__init__.py\", line 101, in writeln\n",
            "    self.clearln()\n",
            "  File \"/usr/local/lib/python3.7/dist-packages/pip/_vendor/progress/__init__.py\", line 90, in clearln\n",
            "    print('\\r\\x1b[K', end='', file=self.file)\n",
            "  File \"/usr/local/lib/python3.7/dist-packages/pip/_internal/cli/progress_bars.py\", line 106, in handle_sigint\n",
            "    self.finish()\n",
            "  File \"/usr/local/lib/python3.7/dist-packages/pip/_internal/cli/progress_bars.py\", line 96, in finish\n",
            "    super().finish()  # type: ignore\n",
            "  File \"/usr/local/lib/python3.7/dist-packages/pip/_vendor/progress/__init__.py\", line 107, in finish\n",
            "    print(file=self.file)\n",
            "RuntimeError: reentrant call inside <_io.BufferedWriter name='<stdout>'>\u001b[0m\n",
            "\u001b[K"
          ]
        }
      ],
      "source": [
        "!pip install tensorflow-gpu\n"
      ]
    },
    {
      "cell_type": "code",
      "source": [
        "import tensorflow as tf\n",
        "print(tf.__version__)"
      ],
      "metadata": {
        "colab": {
          "base_uri": "https://localhost:8080/"
        },
        "id": "kXCQKYV5AmXU",
        "outputId": "1a7ecc79-0505-435a-e681-9703fcac9254"
      },
      "execution_count": null,
      "outputs": [
        {
          "output_type": "stream",
          "name": "stdout",
          "text": [
            "2.8.2\n"
          ]
        }
      ]
    },
    {
      "cell_type": "code",
      "source": [
        "##we will be first of all importing some libraries \n",
        "import numpy as np\n",
        "import pandas as pd\n",
        "import matplotlib.pyplot as plt\n",
        "from sklearn.model_selection import train_test_split\n"
      ],
      "metadata": {
        "id": "gFg7xZSVBV7s"
      },
      "execution_count": null,
      "outputs": []
    },
    {
      "cell_type": "code",
      "source": [
        "dataset1=pd.read_csv(\"Churn_Modelling.csv\")\n",
        "dataset1.head()\n",
        "\n",
        "## Dividing the dataset into independednt and dependedent features\n",
        "## X is for Independent and Y for dependent\n",
        "X = dataset1.iloc[:,3:13]\n",
        "Y = dataset1.iloc[:,13]\n",
        "\n",
        "## doing feature engineering like using one hot encoding\n",
        "geography=pd.get_dummies(X['Geography'], drop_first=True)\n",
        "gender=pd.get_dummies(X['Gender'], drop_first=True)\n",
        "X=X.drop(['Geography','Gender'],axis=1)\n",
        "X.head()\n",
        "X=pd.concat([X,geography,gender],axis=1)\n",
        "X_train,X_test,Y_train,Y_test = train_test_split(X,Y,test_size = 0.2, random_state=0)\n",
        "\n",
        "from sklearn.preprocessing import StandardScaler\n",
        "sc = StandardScaler()\n",
        "X_train = sc.fit_transform(X_train)\n",
        "X_test = sc.transform(X_test)\n",
        "\n",
        "## creating the ANN\n",
        "\n",
        "from tensorflow.keras.models import Sequential\n",
        "from tensorflow.keras.layers import Dense\n",
        "from tensorflow.keras.layers import ReLU,LeakyReLU,PReLU,ELU\n",
        "from tensorflow.keras.layers import Dropout\n",
        "\n",
        "## initialize the ANN layer\n",
        "classifier=Sequential()\n",
        "classifier.add(Dense(units=11, activation = \"LeakyReLU\")) ## input layer \n",
        "classifier.add(Dropout(0.2))\n",
        "## 1st hidden layer\n",
        "classifier.add(Dense(units=24, activation = \"LeakyReLU\"))\n",
        "classifier.add(Dropout(0.2))\n",
        "## 2nd hidden layer\n",
        "classifier.add(Dense(units=20, activation = \"LeakyReLU\"))\n",
        "classifier.add(Dropout(0.2))\n",
        "## 3rd hidden layer\n",
        "classifier.add(Dense(units=9, activation = \"LeakyReLU\"))\n",
        "classifier.add(Dropout(0.2))\n",
        "##output layer\n",
        "classifier.add(Dense(units=1, activation = \"sigmoid\"))\n",
        "\n",
        "## compiling\n",
        "classifier.compile(optimizer='adam',loss='binary_crossentropy',metrics=['accuracy'])\n",
        "\n",
        "## Early Stopping \n",
        "stopping = tf.keras.callbacks.EarlyStopping(\n",
        "    monitor=\"val_loss\",\n",
        "    min_delta=0.0001,\n",
        "    patience=30,\n",
        "    verbose=1,\n",
        "    mode=\"auto\",\n",
        "    baseline=None,\n",
        "    restore_best_weights=False,\n",
        ")\n",
        "\n",
        "## training the model\n",
        "model = classifier.fit(X_train,Y_train,batch_size = 10, epochs = 30, validation_split = 0.33, callbacks=[stopping])\n",
        "model.history.keys()\n",
        "plt.plot(model.history[\"accuracy\"])\n",
        "plt.plot(model.history[\"val_accuracy\"])\n",
        "plt.title(\"Accuracy chart\")\n",
        "plt.xlabel(\"Epoch\")\n",
        "plt.ylabel(\"Accuracy\")\n",
        "plt.legend([\"train\", \"test\"])\n",
        "plt.show()\n",
        "\n"
      ],
      "metadata": {
        "colab": {
          "base_uri": "https://localhost:8080/",
          "height": 1000
        },
        "id": "zYksh8ouN6pR",
        "outputId": "55a042ba-7ce0-46e0-a44d-384c22495e9a"
      },
      "execution_count": null,
      "outputs": [
        {
          "output_type": "stream",
          "name": "stdout",
          "text": [
            "Epoch 1/30\n",
            "536/536 [==============================] - 3s 4ms/step - loss: 0.5111 - accuracy: 0.7884 - val_loss: 0.4542 - val_accuracy: 0.8001\n",
            "Epoch 2/30\n",
            "536/536 [==============================] - 2s 4ms/step - loss: 0.4631 - accuracy: 0.8052 - val_loss: 0.4378 - val_accuracy: 0.8080\n",
            "Epoch 3/30\n",
            "536/536 [==============================] - 2s 4ms/step - loss: 0.4513 - accuracy: 0.8069 - val_loss: 0.4346 - val_accuracy: 0.8050\n",
            "Epoch 4/30\n",
            "536/536 [==============================] - 2s 4ms/step - loss: 0.4386 - accuracy: 0.8153 - val_loss: 0.4255 - val_accuracy: 0.8160\n",
            "Epoch 5/30\n",
            "536/536 [==============================] - 2s 4ms/step - loss: 0.4317 - accuracy: 0.8130 - val_loss: 0.4210 - val_accuracy: 0.8186\n",
            "Epoch 6/30\n",
            "536/536 [==============================] - 2s 4ms/step - loss: 0.4265 - accuracy: 0.8196 - val_loss: 0.4126 - val_accuracy: 0.8266\n",
            "Epoch 7/30\n",
            "536/536 [==============================] - 2s 4ms/step - loss: 0.4175 - accuracy: 0.8207 - val_loss: 0.4011 - val_accuracy: 0.8304\n",
            "Epoch 8/30\n",
            "536/536 [==============================] - 2s 4ms/step - loss: 0.4100 - accuracy: 0.8276 - val_loss: 0.3900 - val_accuracy: 0.8342\n",
            "Epoch 9/30\n",
            "536/536 [==============================] - 2s 4ms/step - loss: 0.4058 - accuracy: 0.8265 - val_loss: 0.3814 - val_accuracy: 0.8387\n",
            "Epoch 10/30\n",
            "536/536 [==============================] - 2s 4ms/step - loss: 0.3980 - accuracy: 0.8300 - val_loss: 0.3789 - val_accuracy: 0.8406\n",
            "Epoch 11/30\n",
            "536/536 [==============================] - 2s 4ms/step - loss: 0.4002 - accuracy: 0.8293 - val_loss: 0.3799 - val_accuracy: 0.8406\n",
            "Epoch 12/30\n",
            "536/536 [==============================] - 2s 4ms/step - loss: 0.3927 - accuracy: 0.8317 - val_loss: 0.3693 - val_accuracy: 0.8432\n",
            "Epoch 13/30\n",
            "536/536 [==============================] - 2s 4ms/step - loss: 0.3810 - accuracy: 0.8365 - val_loss: 0.3706 - val_accuracy: 0.8425\n",
            "Epoch 14/30\n",
            "536/536 [==============================] - 2s 4ms/step - loss: 0.3872 - accuracy: 0.8377 - val_loss: 0.3687 - val_accuracy: 0.8391\n",
            "Epoch 15/30\n",
            "536/536 [==============================] - 2s 4ms/step - loss: 0.3785 - accuracy: 0.8369 - val_loss: 0.3666 - val_accuracy: 0.8463\n",
            "Epoch 16/30\n",
            "536/536 [==============================] - 2s 4ms/step - loss: 0.3877 - accuracy: 0.8384 - val_loss: 0.3683 - val_accuracy: 0.8448\n",
            "Epoch 17/30\n",
            "536/536 [==============================] - 2s 4ms/step - loss: 0.3833 - accuracy: 0.8364 - val_loss: 0.3639 - val_accuracy: 0.8474\n",
            "Epoch 18/30\n",
            "536/536 [==============================] - 2s 4ms/step - loss: 0.3781 - accuracy: 0.8360 - val_loss: 0.3642 - val_accuracy: 0.8482\n",
            "Epoch 19/30\n",
            "536/536 [==============================] - 2s 4ms/step - loss: 0.3795 - accuracy: 0.8397 - val_loss: 0.3669 - val_accuracy: 0.8463\n",
            "Epoch 20/30\n",
            "536/536 [==============================] - 2s 4ms/step - loss: 0.3752 - accuracy: 0.8444 - val_loss: 0.3615 - val_accuracy: 0.8474\n",
            "Epoch 21/30\n",
            "536/536 [==============================] - 2s 4ms/step - loss: 0.3756 - accuracy: 0.8388 - val_loss: 0.3631 - val_accuracy: 0.8482\n",
            "Epoch 22/30\n",
            "536/536 [==============================] - 2s 4ms/step - loss: 0.3723 - accuracy: 0.8457 - val_loss: 0.3652 - val_accuracy: 0.8436\n",
            "Epoch 23/30\n",
            "536/536 [==============================] - 2s 4ms/step - loss: 0.3787 - accuracy: 0.8410 - val_loss: 0.3647 - val_accuracy: 0.8485\n",
            "Epoch 24/30\n",
            "536/536 [==============================] - 2s 4ms/step - loss: 0.3732 - accuracy: 0.8421 - val_loss: 0.3602 - val_accuracy: 0.8485\n",
            "Epoch 25/30\n",
            "536/536 [==============================] - 2s 4ms/step - loss: 0.3675 - accuracy: 0.8453 - val_loss: 0.3592 - val_accuracy: 0.8519\n",
            "Epoch 26/30\n",
            "536/536 [==============================] - 2s 4ms/step - loss: 0.3704 - accuracy: 0.8455 - val_loss: 0.3617 - val_accuracy: 0.8478\n",
            "Epoch 27/30\n",
            "536/536 [==============================] - 2s 4ms/step - loss: 0.3723 - accuracy: 0.8457 - val_loss: 0.3645 - val_accuracy: 0.8455\n",
            "Epoch 28/30\n",
            "536/536 [==============================] - 2s 4ms/step - loss: 0.3714 - accuracy: 0.8406 - val_loss: 0.3589 - val_accuracy: 0.8448\n",
            "Epoch 29/30\n",
            "536/536 [==============================] - 2s 4ms/step - loss: 0.3710 - accuracy: 0.8436 - val_loss: 0.3619 - val_accuracy: 0.8444\n",
            "Epoch 30/30\n",
            "536/536 [==============================] - 2s 4ms/step - loss: 0.3700 - accuracy: 0.8410 - val_loss: 0.3588 - val_accuracy: 0.8489\n"
          ]
        },
        {
          "output_type": "display_data",
          "data": {
            "text/plain": [
              "<Figure size 432x288 with 1 Axes>"
            ],
            "image/png": "[encoded data removed]"
          },
          "metadata": {
            "needs_background": "light"
          }
        }
      ]
    },
    {
      "cell_type": "code",
      "source": [
        "##loss\n",
        "plt.plot(model.history[\"loss\"])\n",
        "plt.plot(model.history[\"val_loss\"])\n",
        "plt.title(\"loss chart\")\n",
        "plt.xlabel(\"Epoch\")\n",
        "plt.ylabel(\"loss\")\n",
        "plt.legend([\"train\", \"test\"])\n",
        "plt.show()"
      ],
      "metadata": {
        "colab": {
          "base_uri": "https://localhost:8080/",
          "height": 295
        },
        "id": "8tNIZmsdxytB",
        "outputId": "5dd7420c-b874-4a3f-8c2a-48db79b753d7"
      },
      "execution_count": null,
      "outputs": [
        {
          "output_type": "display_data",
          "data": {
            "text/plain": [
              "<Figure size 432x288 with 1 Axes>"
            ],
            "image/png": "[encoded data removed]"
          },
          "metadata": {
            "needs_background": "light"
          }
        }
      ]
    },
    {
      "cell_type": "code",
      "source": [
        "## making the predictions \n",
        "Y_results = classifier.predict(X_test)\n",
        "Y_results = (Y_results >= 0.5)\n",
        "from sklearn.metrics import confusion_matrix\n",
        "from sklearn.metrics import accuracy_score\n",
        "matrix=confusion_matrix(Y_test,Y_results)\n",
        "final=accuracy_score(Y_test,Y_results)\n",
        "final\n"
      ],
      "metadata": {
        "colab": {
          "base_uri": "https://localhost:8080/"
        },
        "id": "PL2-mCBQzBNB",
        "outputId": "4878b4a4-781e-4adb-92bf-f1f7cf107355"
      },
      "execution_count": null,
      "outputs": [
        {
          "output_type": "execute_result",
          "data": {
            "text/plain": [
              "0.8645"
            ]
          },
          "metadata": {},
          "execution_count": 17
        }
      ]
    }
  ]
}